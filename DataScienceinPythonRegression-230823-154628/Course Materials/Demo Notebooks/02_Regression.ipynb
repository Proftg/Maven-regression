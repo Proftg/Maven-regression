{
 "cells": [
  {
   "cell_type": "code",
   "execution_count": 43,
   "id": "5a92b6c3",
   "metadata": {
    "execution": {
     "iopub.execute_input": "2025-10-29T14:33:24.087276Z",
     "iopub.status.busy": "2025-10-29T14:33:24.086929Z",
     "iopub.status.idle": "2025-10-29T14:33:24.092626Z",
     "shell.execute_reply": "2025-10-29T14:33:24.091344Z",
     "shell.execute_reply.started": "2025-10-29T14:33:24.087252Z"
    }
   },
   "outputs": [],
   "source": [
    "import pandas as pd\n",
    "import numpy as np\n",
    "\n",
    "import statsmodels.api as sm"
   ]
  },
  {
   "cell_type": "code",
   "execution_count": 44,
   "id": "5cc40c85",
   "metadata": {
    "execution": {
     "iopub.execute_input": "2025-10-29T14:33:25.392262Z",
     "iopub.status.busy": "2025-10-29T14:33:25.391317Z",
     "iopub.status.idle": "2025-10-29T14:33:25.435228Z",
     "shell.execute_reply": "2025-10-29T14:33:25.434082Z",
     "shell.execute_reply.started": "2025-10-29T14:33:25.392235Z"
    }
   },
   "outputs": [
    {
     "data": {
      "text/html": [
       "<div>\n",
       "<style scoped>\n",
       "    .dataframe tbody tr th:only-of-type {\n",
       "        vertical-align: middle;\n",
       "    }\n",
       "\n",
       "    .dataframe tbody tr th {\n",
       "        vertical-align: top;\n",
       "    }\n",
       "\n",
       "    .dataframe thead th {\n",
       "        text-align: right;\n",
       "    }\n",
       "</style>\n",
       "<table border=\"1\" class=\"dataframe\">\n",
       "  <thead>\n",
       "    <tr style=\"text-align: right;\">\n",
       "      <th></th>\n",
       "      <th>carat</th>\n",
       "      <th>cut</th>\n",
       "      <th>color</th>\n",
       "      <th>clarity</th>\n",
       "      <th>depth</th>\n",
       "      <th>table</th>\n",
       "      <th>price</th>\n",
       "      <th>x</th>\n",
       "      <th>y</th>\n",
       "      <th>z</th>\n",
       "    </tr>\n",
       "  </thead>\n",
       "  <tbody>\n",
       "    <tr>\n",
       "      <th>0</th>\n",
       "      <td>0.23</td>\n",
       "      <td>Ideal</td>\n",
       "      <td>E</td>\n",
       "      <td>SI2</td>\n",
       "      <td>61.5</td>\n",
       "      <td>55.0</td>\n",
       "      <td>326</td>\n",
       "      <td>3.95</td>\n",
       "      <td>3.98</td>\n",
       "      <td>2.43</td>\n",
       "    </tr>\n",
       "    <tr>\n",
       "      <th>1</th>\n",
       "      <td>0.21</td>\n",
       "      <td>Premium</td>\n",
       "      <td>E</td>\n",
       "      <td>SI1</td>\n",
       "      <td>59.8</td>\n",
       "      <td>61.0</td>\n",
       "      <td>326</td>\n",
       "      <td>3.89</td>\n",
       "      <td>3.84</td>\n",
       "      <td>2.31</td>\n",
       "    </tr>\n",
       "    <tr>\n",
       "      <th>2</th>\n",
       "      <td>0.23</td>\n",
       "      <td>Good</td>\n",
       "      <td>E</td>\n",
       "      <td>VS1</td>\n",
       "      <td>56.9</td>\n",
       "      <td>65.0</td>\n",
       "      <td>327</td>\n",
       "      <td>4.05</td>\n",
       "      <td>4.07</td>\n",
       "      <td>2.31</td>\n",
       "    </tr>\n",
       "    <tr>\n",
       "      <th>3</th>\n",
       "      <td>0.29</td>\n",
       "      <td>Premium</td>\n",
       "      <td>I</td>\n",
       "      <td>VS2</td>\n",
       "      <td>62.4</td>\n",
       "      <td>58.0</td>\n",
       "      <td>334</td>\n",
       "      <td>4.20</td>\n",
       "      <td>4.23</td>\n",
       "      <td>2.63</td>\n",
       "    </tr>\n",
       "    <tr>\n",
       "      <th>4</th>\n",
       "      <td>0.31</td>\n",
       "      <td>Good</td>\n",
       "      <td>J</td>\n",
       "      <td>SI2</td>\n",
       "      <td>63.3</td>\n",
       "      <td>58.0</td>\n",
       "      <td>335</td>\n",
       "      <td>4.34</td>\n",
       "      <td>4.35</td>\n",
       "      <td>2.75</td>\n",
       "    </tr>\n",
       "  </tbody>\n",
       "</table>\n",
       "</div>"
      ],
      "text/plain": [
       "   carat      cut color clarity  depth  table  price     x     y     z\n",
       "0   0.23    Ideal     E     SI2   61.5   55.0    326  3.95  3.98  2.43\n",
       "1   0.21  Premium     E     SI1   59.8   61.0    326  3.89  3.84  2.31\n",
       "2   0.23     Good     E     VS1   56.9   65.0    327  4.05  4.07  2.31\n",
       "3   0.29  Premium     I     VS2   62.4   58.0    334  4.20  4.23  2.63\n",
       "4   0.31     Good     J     SI2   63.3   58.0    335  4.34  4.35  2.75"
      ]
     },
     "execution_count": 44,
     "metadata": {},
     "output_type": "execute_result"
    }
   ],
   "source": [
    "diamonds = pd.read_csv(\"../Data/Diamonds Prices2022.csv\")\n",
    "\n",
    "diamonds.head()"
   ]
  },
  {
   "cell_type": "markdown",
   "id": "88c1045f",
   "metadata": {},
   "source": [
    "### Fitting a Regression in sklearn"
   ]
  },
  {
   "cell_type": "code",
   "execution_count": 40,
   "id": "df79c698",
   "metadata": {
    "execution": {
     "iopub.execute_input": "2025-10-29T14:32:50.878398Z",
     "iopub.status.busy": "2025-10-29T14:32:50.877393Z",
     "iopub.status.idle": "2025-10-29T14:32:50.889938Z",
     "shell.execute_reply": "2025-10-29T14:32:50.888991Z",
     "shell.execute_reply.started": "2025-10-29T14:32:50.878363Z"
    }
   },
   "outputs": [
    {
     "name": "stdout",
     "output_type": "stream",
     "text": [
      "Intercept: -2256.395047537996\n",
      "Coefficients: [7756.43615951]\n"
     ]
    }
   ],
   "source": [
    "from sklearn.linear_model import LinearRegression\n",
    "\n",
    "X = diamonds[[\"carat\"]]\n",
    "y = diamonds[\"price\"]\n",
    "\n",
    "lr = LinearRegression().fit(X, y)\n",
    "# we can use LinearRegression(fit_intercept=False).fit(X, y)   \n",
    "\n",
    "print(f\"Intercept: {lr.intercept_}\")\n",
    "print(f\"Coefficients: {lr.coef_}\")\n"
   ]
  },
  {
   "cell_type": "markdown",
   "id": "0b12a047",
   "metadata": {},
   "source": [
    "### Fitting a Regression in Statsmodels"
   ]
  },
  {
   "cell_type": "code",
   "execution_count": 45,
   "id": "213b44b8",
   "metadata": {
    "execution": {
     "iopub.execute_input": "2025-10-29T14:33:35.223195Z",
     "iopub.status.busy": "2025-10-29T14:33:35.222843Z",
     "iopub.status.idle": "2025-10-29T14:33:35.353947Z",
     "shell.execute_reply": "2025-10-29T14:33:35.353322Z",
     "shell.execute_reply.started": "2025-10-29T14:33:35.223172Z"
    }
   },
   "outputs": [
    {
     "data": {
      "text/html": [
       "<table class=\"simpletable\">\n",
       "<caption>OLS Regression Results</caption>\n",
       "<tr>\n",
       "  <th>Dep. Variable:</th>          <td>price</td>      <th>  R-squared:         </th>  <td>   0.849</td>  \n",
       "</tr>\n",
       "<tr>\n",
       "  <th>Model:</th>                   <td>OLS</td>       <th>  Adj. R-squared:    </th>  <td>   0.849</td>  \n",
       "</tr>\n",
       "<tr>\n",
       "  <th>Method:</th>             <td>Least Squares</td>  <th>  F-statistic:       </th>  <td>3.041e+05</td> \n",
       "</tr>\n",
       "<tr>\n",
       "  <th>Date:</th>             <td>Wed, 29 Oct 2025</td> <th>  Prob (F-statistic):</th>   <td>  0.00</td>   \n",
       "</tr>\n",
       "<tr>\n",
       "  <th>Time:</th>                 <td>15:33:35</td>     <th>  Log-Likelihood:    </th> <td>-4.7276e+05</td>\n",
       "</tr>\n",
       "<tr>\n",
       "  <th>No. Observations:</th>      <td> 53943</td>      <th>  AIC:               </th>  <td>9.455e+05</td> \n",
       "</tr>\n",
       "<tr>\n",
       "  <th>Df Residuals:</th>          <td> 53941</td>      <th>  BIC:               </th>  <td>9.455e+05</td> \n",
       "</tr>\n",
       "<tr>\n",
       "  <th>Df Model:</th>              <td>     1</td>      <th>                     </th>      <td> </td>     \n",
       "</tr>\n",
       "<tr>\n",
       "  <th>Covariance Type:</th>      <td>nonrobust</td>    <th>                     </th>      <td> </td>     \n",
       "</tr>\n",
       "</table>\n",
       "<table class=\"simpletable\">\n",
       "<tr>\n",
       "    <td></td>       <th>coef</th>     <th>std err</th>      <th>t</th>      <th>P>|t|</th>  <th>[0.025</th>    <th>0.975]</th>  \n",
       "</tr>\n",
       "<tr>\n",
       "  <th>const</th> <td>-2256.3950</td> <td>   13.055</td> <td> -172.840</td> <td> 0.000</td> <td>-2281.983</td> <td>-2230.807</td>\n",
       "</tr>\n",
       "<tr>\n",
       "  <th>carat</th> <td> 7756.4362</td> <td>   14.066</td> <td>  551.423</td> <td> 0.000</td> <td> 7728.866</td> <td> 7784.006</td>\n",
       "</tr>\n",
       "</table>\n",
       "<table class=\"simpletable\">\n",
       "<tr>\n",
       "  <th>Omnibus:</th>       <td>14027.005</td> <th>  Durbin-Watson:     </th>  <td>   0.986</td> \n",
       "</tr>\n",
       "<tr>\n",
       "  <th>Prob(Omnibus):</th>  <td> 0.000</td>   <th>  Jarque-Bera (JB):  </th> <td>153060.389</td>\n",
       "</tr>\n",
       "<tr>\n",
       "  <th>Skew:</th>           <td> 0.939</td>   <th>  Prob(JB):          </th>  <td>    0.00</td> \n",
       "</tr>\n",
       "<tr>\n",
       "  <th>Kurtosis:</th>       <td>11.036</td>   <th>  Cond. No.          </th>  <td>    3.65</td> \n",
       "</tr>\n",
       "</table><br/><br/>Notes:<br/>[1] Standard Errors assume that the covariance matrix of the errors is correctly specified."
      ],
      "text/latex": [
       "\\begin{center}\n",
       "\\begin{tabular}{lclc}\n",
       "\\toprule\n",
       "\\textbf{Dep. Variable:}    &      price       & \\textbf{  R-squared:         } &      0.849   \\\\\n",
       "\\textbf{Model:}            &       OLS        & \\textbf{  Adj. R-squared:    } &      0.849   \\\\\n",
       "\\textbf{Method:}           &  Least Squares   & \\textbf{  F-statistic:       } &  3.041e+05   \\\\\n",
       "\\textbf{Date:}             & Wed, 29 Oct 2025 & \\textbf{  Prob (F-statistic):} &      0.00    \\\\\n",
       "\\textbf{Time:}             &     15:33:35     & \\textbf{  Log-Likelihood:    } & -4.7276e+05  \\\\\n",
       "\\textbf{No. Observations:} &       53943      & \\textbf{  AIC:               } &  9.455e+05   \\\\\n",
       "\\textbf{Df Residuals:}     &       53941      & \\textbf{  BIC:               } &  9.455e+05   \\\\\n",
       "\\textbf{Df Model:}         &           1      & \\textbf{                     } &              \\\\\n",
       "\\textbf{Covariance Type:}  &    nonrobust     & \\textbf{                     } &              \\\\\n",
       "\\bottomrule\n",
       "\\end{tabular}\n",
       "\\begin{tabular}{lcccccc}\n",
       "               & \\textbf{coef} & \\textbf{std err} & \\textbf{t} & \\textbf{P$> |$t$|$} & \\textbf{[0.025} & \\textbf{0.975]}  \\\\\n",
       "\\midrule\n",
       "\\textbf{const} &   -2256.3950  &       13.055     &  -172.840  &         0.000        &    -2281.983    &    -2230.807     \\\\\n",
       "\\textbf{carat} &    7756.4362  &       14.066     &   551.423  &         0.000        &     7728.866    &     7784.006     \\\\\n",
       "\\bottomrule\n",
       "\\end{tabular}\n",
       "\\begin{tabular}{lclc}\n",
       "\\textbf{Omnibus:}       & 14027.005 & \\textbf{  Durbin-Watson:     } &     0.986   \\\\\n",
       "\\textbf{Prob(Omnibus):} &    0.000  & \\textbf{  Jarque-Bera (JB):  } & 153060.389  \\\\\n",
       "\\textbf{Skew:}          &    0.939  & \\textbf{  Prob(JB):          } &      0.00   \\\\\n",
       "\\textbf{Kurtosis:}      &   11.036  & \\textbf{  Cond. No.          } &      3.65   \\\\\n",
       "\\bottomrule\n",
       "\\end{tabular}\n",
       "%\\caption{OLS Regression Results}\n",
       "\\end{center}\n",
       "\n",
       "Notes: \\newline\n",
       " [1] Standard Errors assume that the covariance matrix of the errors is correctly specified."
      ],
      "text/plain": [
       "<class 'statsmodels.iolib.summary.Summary'>\n",
       "\"\"\"\n",
       "                            OLS Regression Results                            \n",
       "==============================================================================\n",
       "Dep. Variable:                  price   R-squared:                       0.849\n",
       "Model:                            OLS   Adj. R-squared:                  0.849\n",
       "Method:                 Least Squares   F-statistic:                 3.041e+05\n",
       "Date:                Wed, 29 Oct 2025   Prob (F-statistic):               0.00\n",
       "Time:                        15:33:35   Log-Likelihood:            -4.7276e+05\n",
       "No. Observations:               53943   AIC:                         9.455e+05\n",
       "Df Residuals:                   53941   BIC:                         9.455e+05\n",
       "Df Model:                           1                                         \n",
       "Covariance Type:            nonrobust                                         \n",
       "==============================================================================\n",
       "                 coef    std err          t      P>|t|      [0.025      0.975]\n",
       "------------------------------------------------------------------------------\n",
       "const      -2256.3950     13.055   -172.840      0.000   -2281.983   -2230.807\n",
       "carat       7756.4362     14.066    551.423      0.000    7728.866    7784.006\n",
       "==============================================================================\n",
       "Omnibus:                    14027.005   Durbin-Watson:                   0.986\n",
       "Prob(Omnibus):                  0.000   Jarque-Bera (JB):           153060.389\n",
       "Skew:                           0.939   Prob(JB):                         0.00\n",
       "Kurtosis:                      11.036   Cond. No.                         3.65\n",
       "==============================================================================\n",
       "\n",
       "Notes:\n",
       "[1] Standard Errors assume that the covariance matrix of the errors is correctly specified.\n",
       "\"\"\""
      ]
     },
     "execution_count": 45,
     "metadata": {},
     "output_type": "execute_result"
    }
   ],
   "source": [
    "X = sm.add_constant(diamonds[\"carat\"])\n",
    "y = diamonds[\"price\"]\n",
    "\n",
    "model = sm.OLS(y, X).fit()\n",
    "model.summary()\n",
    "# we can call .summery() directely afetr 'sm.OLS(y, X).fit().summery()'"
   ]
  },
  {
   "cell_type": "code",
   "execution_count": 46,
   "id": "bf8eee64-501f-4cde-943e-359cf232f663",
   "metadata": {
    "execution": {
     "iopub.execute_input": "2025-10-29T14:33:50.524081Z",
     "iopub.status.busy": "2025-10-29T14:33:50.523199Z",
     "iopub.status.idle": "2025-10-29T14:33:50.534417Z",
     "shell.execute_reply": "2025-10-29T14:33:50.533575Z",
     "shell.execute_reply.started": "2025-10-29T14:33:50.524048Z"
    }
   },
   "outputs": [
    {
     "data": {
      "text/html": [
       "<div>\n",
       "<style scoped>\n",
       "    .dataframe tbody tr th:only-of-type {\n",
       "        vertical-align: middle;\n",
       "    }\n",
       "\n",
       "    .dataframe tbody tr th {\n",
       "        vertical-align: top;\n",
       "    }\n",
       "\n",
       "    .dataframe thead th {\n",
       "        text-align: right;\n",
       "    }\n",
       "</style>\n",
       "<table border=\"1\" class=\"dataframe\">\n",
       "  <thead>\n",
       "    <tr style=\"text-align: right;\">\n",
       "      <th></th>\n",
       "      <th>const</th>\n",
       "      <th>carat</th>\n",
       "    </tr>\n",
       "  </thead>\n",
       "  <tbody>\n",
       "    <tr>\n",
       "      <th>0</th>\n",
       "      <td>1.0</td>\n",
       "      <td>0.23</td>\n",
       "    </tr>\n",
       "    <tr>\n",
       "      <th>1</th>\n",
       "      <td>1.0</td>\n",
       "      <td>0.21</td>\n",
       "    </tr>\n",
       "    <tr>\n",
       "      <th>2</th>\n",
       "      <td>1.0</td>\n",
       "      <td>0.23</td>\n",
       "    </tr>\n",
       "    <tr>\n",
       "      <th>3</th>\n",
       "      <td>1.0</td>\n",
       "      <td>0.29</td>\n",
       "    </tr>\n",
       "    <tr>\n",
       "      <th>4</th>\n",
       "      <td>1.0</td>\n",
       "      <td>0.31</td>\n",
       "    </tr>\n",
       "    <tr>\n",
       "      <th>...</th>\n",
       "      <td>...</td>\n",
       "      <td>...</td>\n",
       "    </tr>\n",
       "    <tr>\n",
       "      <th>53938</th>\n",
       "      <td>1.0</td>\n",
       "      <td>0.86</td>\n",
       "    </tr>\n",
       "    <tr>\n",
       "      <th>53939</th>\n",
       "      <td>1.0</td>\n",
       "      <td>0.75</td>\n",
       "    </tr>\n",
       "    <tr>\n",
       "      <th>53940</th>\n",
       "      <td>1.0</td>\n",
       "      <td>0.71</td>\n",
       "    </tr>\n",
       "    <tr>\n",
       "      <th>53941</th>\n",
       "      <td>1.0</td>\n",
       "      <td>0.71</td>\n",
       "    </tr>\n",
       "    <tr>\n",
       "      <th>53942</th>\n",
       "      <td>1.0</td>\n",
       "      <td>0.70</td>\n",
       "    </tr>\n",
       "  </tbody>\n",
       "</table>\n",
       "<p>53943 rows × 2 columns</p>\n",
       "</div>"
      ],
      "text/plain": [
       "       const  carat\n",
       "0        1.0   0.23\n",
       "1        1.0   0.21\n",
       "2        1.0   0.23\n",
       "3        1.0   0.29\n",
       "4        1.0   0.31\n",
       "...      ...    ...\n",
       "53938    1.0   0.86\n",
       "53939    1.0   0.75\n",
       "53940    1.0   0.71\n",
       "53941    1.0   0.71\n",
       "53942    1.0   0.70\n",
       "\n",
       "[53943 rows x 2 columns]"
      ]
     },
     "execution_count": 46,
     "metadata": {},
     "output_type": "execute_result"
    }
   ],
   "source": [
    "X \n",
    "# X is always conastant = 1"
   ]
  },
  {
   "cell_type": "code",
   "execution_count": 52,
   "id": "90b272a0-e38f-4090-8823-4f331acf5c7c",
   "metadata": {
    "execution": {
     "iopub.execute_input": "2025-10-29T14:35:22.166439Z",
     "iopub.status.busy": "2025-10-29T14:35:22.165947Z",
     "iopub.status.idle": "2025-10-29T14:35:22.330322Z",
     "shell.execute_reply": "2025-10-29T14:35:22.329265Z",
     "shell.execute_reply.started": "2025-10-29T14:35:22.166411Z"
    },
    "scrolled": true
   },
   "outputs": [
    {
     "data": {
      "text/html": [
       "<table class=\"simpletable\">\n",
       "<caption>OLS Regression Results</caption>\n",
       "<tr>\n",
       "  <th>Dep. Variable:</th>          <td>price</td>      <th>  R-squared (uncentered):</th>       <td>   0.881</td>  \n",
       "</tr>\n",
       "<tr>\n",
       "  <th>Model:</th>                   <td>OLS</td>       <th>  Adj. R-squared (uncentered):</th>  <td>   0.881</td>  \n",
       "</tr>\n",
       "<tr>\n",
       "  <th>Method:</th>             <td>Least Squares</td>  <th>  F-statistic:       </th>           <td>4.004e+05</td> \n",
       "</tr>\n",
       "<tr>\n",
       "  <th>Date:</th>             <td>Wed, 29 Oct 2025</td> <th>  Prob (F-statistic):</th>            <td>  0.00</td>   \n",
       "</tr>\n",
       "<tr>\n",
       "  <th>Time:</th>                 <td>15:35:22</td>     <th>  Log-Likelihood:    </th>          <td>-4.8464e+05</td>\n",
       "</tr>\n",
       "<tr>\n",
       "  <th>No. Observations:</th>      <td> 53943</td>      <th>  AIC:               </th>           <td>9.693e+05</td> \n",
       "</tr>\n",
       "<tr>\n",
       "  <th>Df Residuals:</th>          <td> 53942</td>      <th>  BIC:               </th>           <td>9.693e+05</td> \n",
       "</tr>\n",
       "<tr>\n",
       "  <th>Df Model:</th>              <td>     1</td>      <th>                     </th>               <td> </td>     \n",
       "</tr>\n",
       "<tr>\n",
       "  <th>Covariance Type:</th>      <td>nonrobust</td>    <th>                     </th>               <td> </td>     \n",
       "</tr>\n",
       "</table>\n",
       "<table class=\"simpletable\">\n",
       "<tr>\n",
       "    <td></td>       <th>coef</th>     <th>std err</th>      <th>t</th>      <th>P>|t|</th>  <th>[0.025</th>    <th>0.975]</th>  \n",
       "</tr>\n",
       "<tr>\n",
       "  <th>carat</th> <td> 5666.2131</td> <td>    8.955</td> <td>  632.764</td> <td> 0.000</td> <td> 5648.662</td> <td> 5683.764</td>\n",
       "</tr>\n",
       "</table>\n",
       "<table class=\"simpletable\">\n",
       "<tr>\n",
       "  <th>Omnibus:</th>       <td>26112.003</td> <th>  Durbin-Watson:     </th>  <td>   0.344</td> \n",
       "</tr>\n",
       "<tr>\n",
       "  <th>Prob(Omnibus):</th>  <td> 0.000</td>   <th>  Jarque-Bera (JB):  </th> <td>146451.869</td>\n",
       "</tr>\n",
       "<tr>\n",
       "  <th>Skew:</th>           <td> 2.340</td>   <th>  Prob(JB):          </th>  <td>    0.00</td> \n",
       "</tr>\n",
       "<tr>\n",
       "  <th>Kurtosis:</th>       <td> 9.577</td>   <th>  Cond. No.          </th>  <td>    1.00</td> \n",
       "</tr>\n",
       "</table><br/><br/>Notes:<br/>[1] R² is computed without centering (uncentered) since the model does not contain a constant.<br/>[2] Standard Errors assume that the covariance matrix of the errors is correctly specified."
      ],
      "text/latex": [
       "\\begin{center}\n",
       "\\begin{tabular}{lclc}\n",
       "\\toprule\n",
       "\\textbf{Dep. Variable:}    &      price       & \\textbf{  R-squared (uncentered):}      &      0.881   \\\\\n",
       "\\textbf{Model:}            &       OLS        & \\textbf{  Adj. R-squared (uncentered):} &      0.881   \\\\\n",
       "\\textbf{Method:}           &  Least Squares   & \\textbf{  F-statistic:       }          &  4.004e+05   \\\\\n",
       "\\textbf{Date:}             & Wed, 29 Oct 2025 & \\textbf{  Prob (F-statistic):}          &      0.00    \\\\\n",
       "\\textbf{Time:}             &     15:35:22     & \\textbf{  Log-Likelihood:    }          & -4.8464e+05  \\\\\n",
       "\\textbf{No. Observations:} &       53943      & \\textbf{  AIC:               }          &  9.693e+05   \\\\\n",
       "\\textbf{Df Residuals:}     &       53942      & \\textbf{  BIC:               }          &  9.693e+05   \\\\\n",
       "\\textbf{Df Model:}         &           1      & \\textbf{                     }          &              \\\\\n",
       "\\textbf{Covariance Type:}  &    nonrobust     & \\textbf{                     }          &              \\\\\n",
       "\\bottomrule\n",
       "\\end{tabular}\n",
       "\\begin{tabular}{lcccccc}\n",
       "               & \\textbf{coef} & \\textbf{std err} & \\textbf{t} & \\textbf{P$> |$t$|$} & \\textbf{[0.025} & \\textbf{0.975]}  \\\\\n",
       "\\midrule\n",
       "\\textbf{carat} &    5666.2131  &        8.955     &   632.764  &         0.000        &     5648.662    &     5683.764     \\\\\n",
       "\\bottomrule\n",
       "\\end{tabular}\n",
       "\\begin{tabular}{lclc}\n",
       "\\textbf{Omnibus:}       & 26112.003 & \\textbf{  Durbin-Watson:     } &     0.344   \\\\\n",
       "\\textbf{Prob(Omnibus):} &    0.000  & \\textbf{  Jarque-Bera (JB):  } & 146451.869  \\\\\n",
       "\\textbf{Skew:}          &    2.340  & \\textbf{  Prob(JB):          } &      0.00   \\\\\n",
       "\\textbf{Kurtosis:}      &    9.577  & \\textbf{  Cond. No.          } &      1.00   \\\\\n",
       "\\bottomrule\n",
       "\\end{tabular}\n",
       "%\\caption{OLS Regression Results}\n",
       "\\end{center}\n",
       "\n",
       "Notes: \\newline\n",
       " [1] R² is computed without centering (uncentered) since the model does not contain a constant. \\newline\n",
       " [2] Standard Errors assume that the covariance matrix of the errors is correctly specified."
      ],
      "text/plain": [
       "<class 'statsmodels.iolib.summary.Summary'>\n",
       "\"\"\"\n",
       "                                 OLS Regression Results                                \n",
       "=======================================================================================\n",
       "Dep. Variable:                  price   R-squared (uncentered):                   0.881\n",
       "Model:                            OLS   Adj. R-squared (uncentered):              0.881\n",
       "Method:                 Least Squares   F-statistic:                          4.004e+05\n",
       "Date:                Wed, 29 Oct 2025   Prob (F-statistic):                        0.00\n",
       "Time:                        15:35:22   Log-Likelihood:                     -4.8464e+05\n",
       "No. Observations:               53943   AIC:                                  9.693e+05\n",
       "Df Residuals:                   53942   BIC:                                  9.693e+05\n",
       "Df Model:                           1                                                  \n",
       "Covariance Type:            nonrobust                                                  \n",
       "==============================================================================\n",
       "                 coef    std err          t      P>|t|      [0.025      0.975]\n",
       "------------------------------------------------------------------------------\n",
       "carat       5666.2131      8.955    632.764      0.000    5648.662    5683.764\n",
       "==============================================================================\n",
       "Omnibus:                    26112.003   Durbin-Watson:                   0.344\n",
       "Prob(Omnibus):                  0.000   Jarque-Bera (JB):           146451.869\n",
       "Skew:                           2.340   Prob(JB):                         0.00\n",
       "Kurtosis:                       9.577   Cond. No.                         1.00\n",
       "==============================================================================\n",
       "\n",
       "Notes:\n",
       "[1] R² is computed without centering (uncentered) since the model does not contain a constant.\n",
       "[2] Standard Errors assume that the covariance matrix of the errors is correctly specified.\n",
       "\"\"\""
      ]
     },
     "execution_count": 52,
     "metadata": {},
     "output_type": "execute_result"
    }
   ],
   "source": [
    "# Second option for statstsmodel\n",
    "X = diamonds[[\"carat\"]]\n",
    "y = diamonds[\"price\"]\n",
    "model = sm.OLS(y, X).fit()\n",
    "model.summary()\n",
    "# when we see R-squared (uncentered):\tthat means we have to add : sm.add_conatnt(x) as in : X = sm.add_constant(diamonds[\"carat\"])"
   ]
  },
  {
   "cell_type": "code",
   "execution_count": 53,
   "id": "4fca449c-1309-48a3-8516-d29ea565ac15",
   "metadata": {
    "execution": {
     "iopub.execute_input": "2025-10-29T14:35:27.511935Z",
     "iopub.status.busy": "2025-10-29T14:35:27.510945Z",
     "iopub.status.idle": "2025-10-29T14:35:27.522171Z",
     "shell.execute_reply": "2025-10-29T14:35:27.521265Z",
     "shell.execute_reply.started": "2025-10-29T14:35:27.511902Z"
    }
   },
   "outputs": [
    {
     "data": {
      "text/html": [
       "<div>\n",
       "<style scoped>\n",
       "    .dataframe tbody tr th:only-of-type {\n",
       "        vertical-align: middle;\n",
       "    }\n",
       "\n",
       "    .dataframe tbody tr th {\n",
       "        vertical-align: top;\n",
       "    }\n",
       "\n",
       "    .dataframe thead th {\n",
       "        text-align: right;\n",
       "    }\n",
       "</style>\n",
       "<table border=\"1\" class=\"dataframe\">\n",
       "  <thead>\n",
       "    <tr style=\"text-align: right;\">\n",
       "      <th></th>\n",
       "      <th>carat</th>\n",
       "    </tr>\n",
       "  </thead>\n",
       "  <tbody>\n",
       "    <tr>\n",
       "      <th>0</th>\n",
       "      <td>0.23</td>\n",
       "    </tr>\n",
       "    <tr>\n",
       "      <th>1</th>\n",
       "      <td>0.21</td>\n",
       "    </tr>\n",
       "    <tr>\n",
       "      <th>2</th>\n",
       "      <td>0.23</td>\n",
       "    </tr>\n",
       "    <tr>\n",
       "      <th>3</th>\n",
       "      <td>0.29</td>\n",
       "    </tr>\n",
       "    <tr>\n",
       "      <th>4</th>\n",
       "      <td>0.31</td>\n",
       "    </tr>\n",
       "    <tr>\n",
       "      <th>...</th>\n",
       "      <td>...</td>\n",
       "    </tr>\n",
       "    <tr>\n",
       "      <th>53938</th>\n",
       "      <td>0.86</td>\n",
       "    </tr>\n",
       "    <tr>\n",
       "      <th>53939</th>\n",
       "      <td>0.75</td>\n",
       "    </tr>\n",
       "    <tr>\n",
       "      <th>53940</th>\n",
       "      <td>0.71</td>\n",
       "    </tr>\n",
       "    <tr>\n",
       "      <th>53941</th>\n",
       "      <td>0.71</td>\n",
       "    </tr>\n",
       "    <tr>\n",
       "      <th>53942</th>\n",
       "      <td>0.70</td>\n",
       "    </tr>\n",
       "  </tbody>\n",
       "</table>\n",
       "<p>53943 rows × 1 columns</p>\n",
       "</div>"
      ],
      "text/plain": [
       "       carat\n",
       "0       0.23\n",
       "1       0.21\n",
       "2       0.23\n",
       "3       0.29\n",
       "4       0.31\n",
       "...      ...\n",
       "53938   0.86\n",
       "53939   0.75\n",
       "53940   0.71\n",
       "53941   0.71\n",
       "53942   0.70\n",
       "\n",
       "[53943 rows x 1 columns]"
      ]
     },
     "execution_count": 53,
     "metadata": {},
     "output_type": "execute_result"
    }
   ],
   "source": [
    "X\n",
    "# X is not constant"
   ]
  },
  {
   "cell_type": "markdown",
   "id": "120742a1",
   "metadata": {},
   "source": [
    "### Making Predictions"
   ]
  },
  {
   "cell_type": "code",
   "execution_count": 54,
   "id": "844e8d10",
   "metadata": {
    "execution": {
     "iopub.execute_input": "2025-10-29T14:35:31.549774Z",
     "iopub.status.busy": "2025-10-29T14:35:31.548621Z",
     "iopub.status.idle": "2025-10-29T14:35:31.555938Z",
     "shell.execute_reply": "2025-10-29T14:35:31.554917Z",
     "shell.execute_reply.started": "2025-10-29T14:35:31.549738Z"
    }
   },
   "outputs": [
    {
     "data": {
      "text/plain": [
       "array([ 5666.21312432, 11332.42624864])"
      ]
     },
     "execution_count": 54,
     "metadata": {},
     "output_type": "execute_result"
    }
   ],
   "source": [
    "model.predict([1, 2])"
   ]
  },
  {
   "cell_type": "code",
   "execution_count": 55,
   "id": "fb4edd8c",
   "metadata": {
    "execution": {
     "iopub.execute_input": "2025-10-29T14:35:34.621874Z",
     "iopub.status.busy": "2025-10-29T14:35:34.621290Z",
     "iopub.status.idle": "2025-10-29T14:35:34.627154Z",
     "shell.execute_reply": "2025-10-29T14:35:34.626159Z",
     "shell.execute_reply.started": "2025-10-29T14:35:34.621849Z"
    }
   },
   "outputs": [],
   "source": [
    "new_diamonds = pd.DataFrame({\"carat\": [0, .1, .3, .5, 1, 2, 3, 5]})"
   ]
  },
  {
   "cell_type": "code",
   "execution_count": 57,
   "id": "6216fbe1",
   "metadata": {
    "execution": {
     "iopub.execute_input": "2025-10-29T14:36:00.189503Z",
     "iopub.status.busy": "2025-10-29T14:36:00.188887Z",
     "iopub.status.idle": "2025-10-29T14:36:00.197934Z",
     "shell.execute_reply": "2025-10-29T14:36:00.196892Z",
     "shell.execute_reply.started": "2025-10-29T14:36:00.189475Z"
    },
    "scrolled": true
   },
   "outputs": [
    {
     "data": {
      "text/plain": [
       "0        0.000000\n",
       "1      566.621312\n",
       "2     1699.863937\n",
       "3     2833.106562\n",
       "4     5666.213124\n",
       "5    11332.426249\n",
       "6    16998.639373\n",
       "7    28331.065622\n",
       "dtype: float64"
      ]
     },
     "execution_count": 57,
     "metadata": {},
     "output_type": "execute_result"
    }
   ],
   "source": [
    "model.predict(new_diamonds)"
   ]
  },
  {
   "cell_type": "code",
   "execution_count": null,
   "id": "cf6b705c-2e6a-4192-a3ba-59f1c74f926b",
   "metadata": {},
   "outputs": [],
   "source": [
    "!git add \n",
    "!git commit -m \"\"\n",
    "!git pus\n"
   ]
  },
  {
   "cell_type": "markdown",
   "id": "5ce42eed",
   "metadata": {},
   "source": [
    "### Residual Plot"
   ]
  },
  {
   "cell_type": "code",
   "execution_count": 38,
   "id": "bc7d9c71",
   "metadata": {
    "execution": {
     "iopub.execute_input": "2025-10-29T14:27:27.074886Z",
     "iopub.status.busy": "2025-10-29T14:27:27.073922Z",
     "iopub.status.idle": "2025-10-29T14:27:28.004049Z",
     "shell.execute_reply": "2025-10-29T14:27:28.003416Z",
     "shell.execute_reply.started": "2025-10-29T14:27:27.074859Z"
    }
   },
   "outputs": [
    {
     "data": {
      "text/plain": [
       "<Axes: ylabel='None'>"
      ]
     },
     "execution_count": 38,
     "metadata": {},
     "output_type": "execute_result"
    },
    {
     "data": {
      "image/png": "[encoded data removed]",
      "text/plain": [
       "<Figure size 640x480 with 1 Axes>"
      ]
     },
     "metadata": {},
     "output_type": "display_data"
    }
   ],
   "source": [
    "import seaborn as sns\n",
    "\n",
    "sns.scatterplot(x=model.predict(), y=model.resid)"
   ]
  },
  {
   "cell_type": "code",
   "execution_count": null,
   "id": "4f725546",
   "metadata": {},
   "outputs": [],
   "source": []
  }
 ],
 "metadata": {
  "kernelspec": {
   "display_name": "Python 3 (ipykernel)",
   "language": "python",
   "name": "python3"
  },
  "language_info": {
   "codemirror_mode": {
    "name": "ipython",
    "version": 3
   },
   "file_extension": ".py",
   "mimetype": "text/x-python",
   "name": "python",
   "nbconvert_exporter": "python",
   "pygments_lexer": "ipython3",
   "version": "3.12.9"
  }
 },
 "nbformat": 4,
 "nbformat_minor": 5
}
